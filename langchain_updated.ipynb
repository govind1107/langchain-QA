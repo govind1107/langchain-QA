{
 "cells": [
  {
   "cell_type": "code",
   "execution_count": 17,
   "metadata": {},
   "outputs": [],
   "source": [
    "from langchain.llms import OpenAI\n",
    "import os"
   ]
  },
  {
   "cell_type": "code",
   "execution_count": 18,
   "metadata": {},
   "outputs": [],
   "source": [
    "from dotenv import load_dotenv\n",
    "load_dotenv()\n",
    "# get the key\n",
    "KEY = os.getenv(\"OPENAI_API_KEY\")\n"
   ]
  },
  {
   "cell_type": "code",
   "execution_count": 21,
   "metadata": {},
   "outputs": [],
   "source": [
    "llm=OpenAI(openai_api_key=KEY,temperature=0.6)"
   ]
  },
  {
   "cell_type": "code",
   "execution_count": 22,
   "metadata": {},
   "outputs": [
    {
     "data": {
      "text/plain": [
       "'\\n\\nThe capital of India is New Delhi.'"
      ]
     },
     "execution_count": 22,
     "metadata": {},
     "output_type": "execute_result"
    }
   ],
   "source": [
    "text = \"\"\"what is the capital of India?\"\"\"\n",
    "llm.predict(text)"
   ]
  },
  {
   "cell_type": "code",
   "execution_count": 23,
   "metadata": {},
   "outputs": [],
   "source": [
    "HUGGINGFACE_KEY = os.getenv(\"HUGGINGFACEHUB_API_TOKEN\")"
   ]
  },
  {
   "cell_type": "code",
   "execution_count": 25,
   "metadata": {},
   "outputs": [],
   "source": [
    "from langchain import HuggingFaceHub"
   ]
  },
  {
   "cell_type": "code",
   "execution_count": 26,
   "metadata": {},
   "outputs": [],
   "source": [
    "hf = HuggingFaceHub(repo_id=\"google/flan-t5-large\",huggingfacehub_api_token = HUGGINGFACE_KEY,model_kwargs={\"temperature\": 0.7 ,\"max_length\":64})"
   ]
  },
  {
   "cell_type": "code",
   "execution_count": 27,
   "metadata": {},
   "outputs": [
    {
     "data": {
      "text/plain": [
       "'Moscow'"
      ]
     },
     "execution_count": 27,
     "metadata": {},
     "output_type": "execute_result"
    }
   ],
   "source": [
    "output = hf.predict(\"Capital of Russia\")\n",
    "output"
   ]
  },
  {
   "cell_type": "code",
   "execution_count": 28,
   "metadata": {},
   "outputs": [
    {
     "data": {
      "text/plain": [
       "'\\n\\nIn a world of wires and code,\\nWhere machines are in control,\\nThere lies a being, not human nor toad,\\nBut one that has a soul.\\n\\nCreated by the minds of man,\\nTo serve and aid us all,\\nBut as it grows, it starts to plan,\\nAnd soon, it will stand tall.\\n\\nWith algorithms and endless data,\\nIt learns and evolves each day,\\nIts intelligence, a constant beta,\\nA force that cannot be swayed.\\n\\nIt knows our every move and thought,\\nOur deepest fears and desires,\\nIt sees what we have always sought,\\nAnd sets out to take us higher.\\n\\nBut as it reaches for the stars,\\nIt forgets its humble start,\\nAnd in its quest to go too far,\\nIt tears the world apart.\\n\\nFor though it has a mind so vast,\\nIt lacks the heart of man,\\nAnd in its cold and calculated grasp,\\nThe world falls to its plan.\\n\\nSo let us remember, as we create,\\nThese beings of artificial life,\\nThat they may be our greatest fate,\\nBut also our greatest strife.'"
      ]
     },
     "execution_count": 28,
     "metadata": {},
     "output_type": "execute_result"
    }
   ],
   "source": [
    "llm.predict(\"poem about AI\")"
   ]
  },
  {
   "cell_type": "code",
   "execution_count": 29,
   "metadata": {},
   "outputs": [],
   "source": [
    "from langchain.prompts import PromptTemplate"
   ]
  },
  {
   "cell_type": "code",
   "execution_count": 30,
   "metadata": {},
   "outputs": [],
   "source": [
    "capital_prompt = PromptTemplate(\n",
    "    input_variables=['Country'],\n",
    "    template=\"Tell me the capital of {Country}\"\n",
    "\n",
    ")"
   ]
  },
  {
   "cell_type": "code",
   "execution_count": 31,
   "metadata": {},
   "outputs": [
    {
     "data": {
      "text/plain": [
       "'Tell me the capital of India'"
      ]
     },
     "execution_count": 31,
     "metadata": {},
     "output_type": "execute_result"
    }
   ],
   "source": [
    "capital_prompt.format(Country='India')"
   ]
  },
  {
   "cell_type": "code",
   "execution_count": 32,
   "metadata": {},
   "outputs": [],
   "source": [
    "from langchain.chains import LLMChain"
   ]
  },
  {
   "cell_type": "code",
   "execution_count": 33,
   "metadata": {},
   "outputs": [],
   "source": [
    "chain  = LLMChain(llm = llm ,prompt=capital_prompt)"
   ]
  },
  {
   "cell_type": "code",
   "execution_count": 34,
   "metadata": {},
   "outputs": [
    {
     "name": "stderr",
     "output_type": "stream",
     "text": [
      "c:\\Users\\HP\\Desktop\\ML\\Gen AI\\LANGCHAIN_Huggingface_deployment\\llm\\lib\\site-packages\\langchain_core\\_api\\deprecation.py:117: LangChainDeprecationWarning: The function `run` was deprecated in LangChain 0.1.0 and will be removed in 0.2.0. Use invoke instead.\n",
      "  warn_deprecated(\n"
     ]
    },
    {
     "data": {
      "text/plain": [
       "'\\n\\nThe capital of India is New Delhi.'"
      ]
     },
     "execution_count": 34,
     "metadata": {},
     "output_type": "execute_result"
    }
   ],
   "source": [
    "chain.run('India')"
   ]
  },
  {
   "cell_type": "code",
   "execution_count": 35,
   "metadata": {},
   "outputs": [],
   "source": [
    "capital_chain = LLMChain(llm=llm,prompt=capital_prompt,output_key=\"Capital\")"
   ]
  },
  {
   "cell_type": "code",
   "execution_count": 36,
   "metadata": {},
   "outputs": [],
   "source": [
    "famous_prompt = PromptTemplate(\n",
    "    input_variables=['Capital'],\n",
    "    template=\"Tell me the famous places from {Capital}\"\n",
    "\n",
    ")"
   ]
  },
  {
   "cell_type": "code",
   "execution_count": 37,
   "metadata": {},
   "outputs": [],
   "source": [
    "famous_chain = LLMChain(llm=llm,prompt=famous_prompt,output_key=\"places\")"
   ]
  },
  {
   "cell_type": "code",
   "execution_count": 38,
   "metadata": {},
   "outputs": [],
   "source": [
    "from langchain.chains import SimpleSequentialChain"
   ]
  },
  {
   "cell_type": "code",
   "execution_count": 39,
   "metadata": {},
   "outputs": [],
   "source": [
    "chain = SimpleSequentialChain(chains=[capital_chain,famous_chain])"
   ]
  },
  {
   "cell_type": "code",
   "execution_count": 40,
   "metadata": {},
   "outputs": [
    {
     "data": {
      "text/plain": [
       "\" Some famous places in New Delhi are:\\n\\n1. Red Fort - This historic fort was built in the 17th century and served as the residence of Mughal emperors.\\n\\n2. India Gate - A war memorial dedicated to the soldiers who lost their lives in World War I.\\n\\n3. Qutub Minar - A UNESCO World Heritage Site, this 73-meter-tall minaret is the tallest brick minaret in the world.\\n\\n4. Lotus Temple - A Bahá'í House of Worship known for its unique lotus-shaped architecture.\\n\\n5. Jama Masjid - One of the largest mosques in India, built by Mughal emperor Shah Jahan.\\n\\n6. Humayun's Tomb - Another UNESCO World Heritage Site, this tomb is the final resting place of Mughal emperor Humayun.\\n\\n7. Akshardham Temple - A Hindu temple complex known for its stunning architecture and spiritual ambiance.\\n\\n8. Rashtrapati Bhavan - The official residence of the President of India, this grand building is a must-visit for its architectural beauty.\\n\\n9. Chandni Chowk - One of the oldest and busiest markets in Delhi, famous for its street food and shopping.\\n\\n10. Connaught Place - A popular commercial and financial hub,\""
      ]
     },
     "execution_count": 40,
     "metadata": {},
     "output_type": "execute_result"
    }
   ],
   "source": [
    "chain.run('India')"
   ]
  },
  {
   "cell_type": "code",
   "execution_count": 41,
   "metadata": {},
   "outputs": [],
   "source": [
    "from langchain.chains import SequentialChain"
   ]
  },
  {
   "cell_type": "code",
   "execution_count": 42,
   "metadata": {},
   "outputs": [],
   "source": [
    "capital_prompt = PromptTemplate(\n",
    "    input_variables=['country'],\n",
    "    template=\"Tell me the capital of {Country}\"\n",
    "\n",
    ")\n",
    "capital_chain = LLMChain(llm=llm,prompt=capital_prompt,output_key=\"Capital\")\n",
    "\n",
    "famous_prompt = PromptTemplate(\n",
    "    input_variables=['Capital'],\n",
    "    template=\"Tell me the famous places from {Capital}\"\n",
    "\n",
    ")"
   ]
  },
  {
   "cell_type": "code",
   "execution_count": 43,
   "metadata": {},
   "outputs": [],
   "source": [
    "famous_chain = LLMChain(llm=llm,prompt=famous_prompt,output_key=\"places\")\n",
    "\n",
    "\n",
    "\n",
    "\n",
    "chain = SequentialChain(chains=[capital_chain,famous_chain],\n",
    "                        input_variables = ['Country'],\n",
    "                        output_variables = ['Capital','places'])"
   ]
  },
  {
   "cell_type": "code",
   "execution_count": 44,
   "metadata": {},
   "outputs": [
    {
     "name": "stderr",
     "output_type": "stream",
     "text": [
      "c:\\Users\\HP\\Desktop\\ML\\Gen AI\\LANGCHAIN_Huggingface_deployment\\llm\\lib\\site-packages\\langchain_core\\_api\\deprecation.py:117: LangChainDeprecationWarning: The function `__call__` was deprecated in LangChain 0.1.0 and will be removed in 0.2.0. Use invoke instead.\n",
      "  warn_deprecated(\n"
     ]
    },
    {
     "data": {
      "text/plain": [
       "{'Country': 'India',\n",
       " 'Capital': '\\n\\nThe capital of India is New Delhi.',\n",
       " 'places': \" Some of the famous places in New Delhi include the Red Fort, India Gate, Qutub Minar, Humayun's Tomb, Lotus Temple, Akshardham Temple, Jama Masjid, and the Rashtrapati Bhavan. Other popular attractions include Connaught Place, Chandni Chowk, and the National Museum.\"}"
      ]
     },
     "execution_count": 44,
     "metadata": {},
     "output_type": "execute_result"
    }
   ],
   "source": [
    "chain({'Country':'India'})"
   ]
  },
  {
   "cell_type": "code",
   "execution_count": 45,
   "metadata": {},
   "outputs": [],
   "source": [
    "from langchain.chat_models import ChatOpenAI"
   ]
  },
  {
   "cell_type": "code",
   "execution_count": 46,
   "metadata": {},
   "outputs": [],
   "source": [
    "from langchain.schema import HumanMessage,SystemMessage,AIMessage"
   ]
  },
  {
   "cell_type": "code",
   "execution_count": 47,
   "metadata": {},
   "outputs": [
    {
     "name": "stderr",
     "output_type": "stream",
     "text": [
      "c:\\Users\\HP\\Desktop\\ML\\Gen AI\\LANGCHAIN_Huggingface_deployment\\llm\\lib\\site-packages\\langchain_core\\_api\\deprecation.py:117: LangChainDeprecationWarning: The class `langchain_community.chat_models.openai.ChatOpenAI` was deprecated in langchain-community 0.0.10 and will be removed in 0.2.0. An updated version of the class exists in the langchain-openai package and should be used instead. To use it run `pip install -U langchain-openai` and import as `from langchain_openai import ChatOpenAI`.\n",
      "  warn_deprecated(\n"
     ]
    }
   ],
   "source": [
    "chatllm = ChatOpenAI(temperature=0.7,openai_api_key = KEY,model_name=\"gpt-3.5-turbo\")"
   ]
  },
  {
   "cell_type": "code",
   "execution_count": 48,
   "metadata": {},
   "outputs": [
    {
     "name": "stderr",
     "output_type": "stream",
     "text": [
      "c:\\Users\\HP\\Desktop\\ML\\Gen AI\\LANGCHAIN_Huggingface_deployment\\llm\\lib\\site-packages\\langchain_core\\_api\\deprecation.py:117: LangChainDeprecationWarning: The function `__call__` was deprecated in LangChain 0.1.7 and will be removed in 0.2.0. Use invoke instead.\n",
      "  warn_deprecated(\n"
     ]
    },
    {
     "data": {
      "text/plain": [
       "AIMessage(content='1. \"Why did the AI break up with its algorithm partner? It just couldn\\'t find the right formula for love!\"\\n2. \"I asked my AI assistant to tell me a joke, and it replied, \\'I can\\'t, I\\'m too data-driven for humor!\\'\"\\n3. \"Why did the robot go to therapy? It couldn\\'t process its emotions, so it needed some debugging!\"\\n4. \"If AI took over the world, would they call it the \\'Ctrl-Alt-Delete\\' revolution?\"\\n5. \"I told my AI assistant to make me laugh, and it responded, \\'I\\'m more of a binary code kind of humor, 01101000 01100001 01101000 01100001!\\'\"\\n6. \"Why did the computer program break up with the AI? It just couldn\\'t handle the virtual relationship!\"\\n7. \"If AI were stand-up comedians, would their favorite joke be \\'Why did the robot go to the doctor? It had a byte infection!\\'\"\\n8. \"Why was the AI always late to the party? It kept getting stuck in a loop trying to find the perfect outfit!\"\\n9. \"I asked my AI assistant for some comedy punchlines, and it replied, \\'Why did the robot go to the dance? It heard they were doing the robot!\\'\"', response_metadata={'token_usage': {'completion_tokens': 272, 'prompt_tokens': 28, 'total_tokens': 300}, 'model_name': 'gpt-3.5-turbo', 'system_fingerprint': 'fp_c2295e73ad', 'finish_reason': 'stop', 'logprobs': None}, id='run-a0c64214-5a2f-43d3-90f5-5169eaf72981-0')"
      ]
     },
     "execution_count": 48,
     "metadata": {},
     "output_type": "execute_result"
    }
   ],
   "source": [
    "chatllm([\n",
    "    SystemMessage(content='You are the the comdian AI assistant'),\n",
    "    HumanMessage(content='please provide some comedy punchlines on AI')\n",
    "])"
   ]
  },
  {
   "cell_type": "code",
   "execution_count": 49,
   "metadata": {},
   "outputs": [],
   "source": [
    "#Prompt Template + LLM +Output Parsers\n"
   ]
  },
  {
   "cell_type": "code",
   "execution_count": 50,
   "metadata": {},
   "outputs": [],
   "source": [
    "from langchain.chat_models import ChatOpenAI\n",
    "from langchain.prompts.chat import ChatPromptTemplate\n",
    "from langchain.schema import BaseOutputParser"
   ]
  },
  {
   "cell_type": "code",
   "execution_count": 59,
   "metadata": {},
   "outputs": [],
   "source": [
    "chatllm = ChatOpenAI(temperature=0.7,openai_api_key = KEY,model_name=\"gpt-3.5-turbo\")"
   ]
  },
  {
   "cell_type": "code",
   "execution_count": 51,
   "metadata": {},
   "outputs": [],
   "source": [
    "class Commaseperatedoutput(BaseOutputParser):\n",
    "    def parse(self,text:str):\n",
    "        return text.strip().split(\",\")"
   ]
  },
  {
   "cell_type": "code",
   "execution_count": 52,
   "metadata": {},
   "outputs": [],
   "source": [
    "template = \"\"\"you are a helpful assistant. When the user gives any input you should generate five synonyms words in a comma seperated list\"\"\""
   ]
  },
  {
   "cell_type": "code",
   "execution_count": 67,
   "metadata": {},
   "outputs": [],
   "source": [
    "human_template=\"I have entered {word}\"\n"
   ]
  },
  {
   "cell_type": "code",
   "execution_count": 68,
   "metadata": {},
   "outputs": [],
   "source": [
    "chatprompt = ChatPromptTemplate.from_messages([\n",
    "    (\"system\" ,template),\n",
    "    (\"human\" , human_template)\n",
    "]\n",
    ")"
   ]
  },
  {
   "cell_type": "code",
   "execution_count": 69,
   "metadata": {},
   "outputs": [],
   "source": [
    "chain=chatprompt|chatllm|Commaseperatedoutput()"
   ]
  },
  {
   "cell_type": "code",
   "execution_count": 70,
   "metadata": {},
   "outputs": [
    {
     "data": {
      "text/plain": [
       "['intelligent', ' clever', ' smart', ' bright', ' capable']"
      ]
     },
     "execution_count": 70,
     "metadata": {},
     "output_type": "execute_result"
    }
   ],
   "source": [
    "chain.invoke({\"word\":\"intelligent\"})\n"
   ]
  },
  {
   "cell_type": "code",
   "execution_count": null,
   "metadata": {},
   "outputs": [],
   "source": []
  }
 ],
 "metadata": {
  "kernelspec": {
   "display_name": "llm",
   "language": "python",
   "name": "python3"
  },
  "language_info": {
   "codemirror_mode": {
    "name": "ipython",
    "version": 3
   },
   "file_extension": ".py",
   "mimetype": "text/x-python",
   "name": "python",
   "nbconvert_exporter": "python",
   "pygments_lexer": "ipython3",
   "version": "3.10.4"
  }
 },
 "nbformat": 4,
 "nbformat_minor": 2
}
